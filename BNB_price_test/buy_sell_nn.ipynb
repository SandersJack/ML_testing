{
 "cells": [
  {
   "cell_type": "code",
   "execution_count": 1,
   "metadata": {},
   "outputs": [
    {
     "name": "stderr",
     "output_type": "stream",
     "text": [
      "2024-03-27 10:15:51.864614: I external/local_tsl/tsl/cuda/cudart_stub.cc:32] Could not find cuda drivers on your machine, GPU will not be used.\n",
      "2024-03-27 10:15:51.965977: I external/local_tsl/tsl/cuda/cudart_stub.cc:32] Could not find cuda drivers on your machine, GPU will not be used.\n",
      "2024-03-27 10:15:52.598334: I tensorflow/core/platform/cpu_feature_guard.cc:210] This TensorFlow binary is optimized to use available CPU instructions in performance-critical operations.\n",
      "To enable the following instructions: AVX2 FMA, in other operations, rebuild TensorFlow with the appropriate compiler flags.\n",
      "2024-03-27 10:15:55.536615: W tensorflow/compiler/tf2tensorrt/utils/py_utils.cc:38] TF-TRT Warning: Could not find TensorRT\n"
     ]
    }
   ],
   "source": [
    "import pandas as pd\n",
    "import numpy as np\n",
    "from sklearn.ensemble import RandomForestClassifier\n",
    "from sklearn.svm import SVC\n",
    "from sklearn.linear_model import LogisticRegression\n",
    "\n",
    "from sklearn.model_selection import train_test_split\n",
    "from sklearn.preprocessing import MinMaxScaler\n",
    "\n",
    "\n",
    "\n",
    "import tensorflow as tf\n",
    "from tensorflow.keras.models import Sequential\n",
    "from tensorflow.keras.layers import LSTM, Dropout, Dense, BatchNormalization\n",
    "from tensorflow.keras.optimizers import Adam\n",
    "from tensorflow.keras.constraints import max_norm\n",
    "from tensorflow.keras.callbacks import EarlyStopping"
   ]
  },
  {
   "cell_type": "code",
   "execution_count": 2,
   "metadata": {},
   "outputs": [],
   "source": [
    "def RSI(data, time_period=14, column='close', MA='SMA'):\n",
    "    delta = data[column].diff(1)\n",
    "    delta = delta.dropna()\n",
    "    up = delta.copy()\n",
    "    down = delta.copy()\n",
    "    up[up < 0 ] = 0\n",
    "    down[down > 0] = 0\n",
    "    if MA == 'SMA':\n",
    "        AVG_gain = up.rolling(window=time_period).mean()\n",
    "        AVG_loss = abs(down.rolling(window=time_period).mean())\n",
    "    elif MA == 'EMA':\n",
    "        AVG_gain = up.ewm(span=time_period, adjust=False).mean()\n",
    "        AVG_loss = abs(down.ewm(span=time_period, adjust=False).mean())\n",
    "        \n",
    "    rs = AVG_gain / AVG_loss\n",
    "    rsi = 100 - (100 / (1+rs))\n",
    "    data['RSI'+str(time_period)+'_'+str(MA)] = rsi"
   ]
  },
  {
   "cell_type": "code",
   "execution_count": 87,
   "metadata": {},
   "outputs": [],
   "source": [
    "class LogisticRegression_tf(tf.keras.Model):\n",
    "    def __init__(self, num_features):\n",
    "        super(LogisticRegression, self).__init__()\n",
    "        self.w = tf.Variable(tf.random.normal(shape=(num_features, 1)), trainable=True)\n",
    "        self.b = tf.Variable(tf.zeros(shape=(1,)), trainable=True)\n",
    "\n",
    "    def call(self, inputs):\n",
    "        return tf.sigmoid(tf.matmul(inputs, self.w) + self.b)\n",
    "\n",
    "    def compile(self, optimizer, loss):\n",
    "        super(LogisticRegression, self).compile(optimizer=optimizer, loss=loss)\n",
    "        self.optimizer = optimizer\n",
    "        self.loss_fn = loss\n",
    "\n",
    "    def train_step(self, data):\n",
    "        x, y = data\n",
    "        with tf.GradientTape() as tape:\n",
    "            y_pred = self(x, training=True)\n",
    "            loss = self.loss_fn(y, y_pred)\n",
    "        gradients = tape.gradient(loss, [self.w, self.b])\n",
    "        self.optimizer.apply_gradients(zip(gradients, [self.w, self.b]))\n",
    "        return {\"loss\": loss}\n",
    "    \n",
    "    def score(self, X, y):\n",
    "        y_pred = self.predict(X)\n",
    "        y_pred_classes = tf.round(y_pred)\n",
    "        accuracy = tf.reduce_mean(tf.cast(tf.equal(y, y_pred_classes), tf.float32))\n",
    "        return accuracy"
   ]
  },
  {
   "cell_type": "code",
   "execution_count": 84,
   "metadata": {},
   "outputs": [],
   "source": [
    "def select_best_model_tf(X_train, Y_train):\n",
    "    num_features = X_train.shape[1]\n",
    "    LG = LogisticRegression_tf(num_features)\n",
    "    LG.compile(optimizer=tf.keras.optimizers.Adam(learning_rate=0.01),\n",
    "              loss=tf.keras.losses.BinaryCrossentropy())\n",
    "    \n",
    "    model_svc = tf.keras.Sequential([\n",
    "        tf.keras.layers.Input(shape=(X_train.shape[1],)),\n",
    "        tf.keras.layers.Dense(1, activation='sigmoid')\n",
    "    ])\n",
    "    \n",
    "    model_svc.compile(optimizer=tf.keras.optimizers.Adam(learning_rate=0.01),\n",
    "              loss=tf.keras.losses.BinaryCrossentropy(),\n",
    "              metrics=['accuracy'])\n",
    "    \n",
    "    models = [\n",
    "        model_svc,\n",
    "        LG\n",
    "    ]\n",
    "    \n",
    "    model_scores = []\n",
    "    for model in models:\n",
    "        print('Model')\n",
    "        model.fit(X_train,Y_train)\n",
    "        score = model.score(X_train,Y_train)\n",
    "        model_scores.append((model, score))\n",
    "        \n",
    "    # Select best Model\n",
    "    best_model = max(model_scores, key = lambda x:x[1])[0]\n",
    "    \n",
    "    return best_model"
   ]
  },
  {
   "cell_type": "code",
   "execution_count": 3,
   "metadata": {},
   "outputs": [],
   "source": [
    "def select_best_model_sk(X_train, Y_train):\n",
    "\n",
    "    models = [\n",
    "        RandomForestClassifier(),\n",
    "        SVC(),\n",
    "        LogisticRegression()\n",
    "    ]\n",
    "    \n",
    "    model_scores = []\n",
    "    for model in models:\n",
    "        print('Model')\n",
    "        model.fit(X_train,Y_train)\n",
    "        score = model.score(X_train,Y_train)\n",
    "        print('Model {score}')\n",
    "        model_scores.append((model, score))\n",
    "        \n",
    "    # Select best Model\n",
    "    best_model = max(model_scores, key = lambda x:x[1])[0]\n",
    "    \n",
    "    return best_model"
   ]
  },
  {
   "cell_type": "code",
   "execution_count": 4,
   "metadata": {},
   "outputs": [],
   "source": [
    "#Load Data\n",
    "df = pd.read_csv('bnb_historical_data.csv')\n",
    "\n",
    "df['percent_change'] = df['close'].pct_change()\n",
    "## Signal on percent change\n",
    "df['signal'] = np.where(df['percent_change'] >= 0, 1, -1)\n",
    "df.dropna(inplace=True)\n",
    "\n",
    "RSI(df, 6, MA='SMA')\n",
    "RSI(df, 2, MA='SMA')\n",
    "df.dropna(inplace=True)\n",
    "\n",
    "## Signal on RSI\n",
    "df['RSI6_signal'] = np.where(df['RSI6_SMA'] <= 10, 1, 0)\n",
    "df['RSI6_signal'] = np.where(df['RSI6_SMA'] >= 90, -1, df['RSI6_signal'])\n",
    "\n",
    "df['RSI2_signal'] = np.where(df['RSI2_SMA'] <= 10, 1, 0)\n",
    "df['RSI2_signal'] = np.where(df['RSI2_SMA'] >= 90, -1, df['RSI2_signal'])\n",
    "\n",
    "df.set_index(df['timestamp'])\n",
    "df.drop('timestamp', axis=1, inplace=True)"
   ]
  },
  {
   "cell_type": "code",
   "execution_count": 5,
   "metadata": {},
   "outputs": [
    {
     "name": "stdout",
     "output_type": "stream",
     "text": [
      "Model\n"
     ]
    },
    {
     "name": "stderr",
     "output_type": "stream",
     "text": [
      "/home/jack/codes/ML_testing/.venv/lib/python3.10/site-packages/sklearn/base.py:1474: DataConversionWarning: A column-vector y was passed when a 1d array was expected. Please change the shape of y to (n_samples,), for example using ravel().\n",
      "  return fit_method(estimator, *args, **kwargs)\n"
     ]
    },
    {
     "name": "stdout",
     "output_type": "stream",
     "text": [
      "Model\n"
     ]
    },
    {
     "name": "stderr",
     "output_type": "stream",
     "text": [
      "/home/jack/codes/ML_testing/.venv/lib/python3.10/site-packages/sklearn/utils/validation.py:1300: DataConversionWarning: A column-vector y was passed when a 1d array was expected. Please change the shape of y to (n_samples, ), for example using ravel().\n",
      "  y = column_or_1d(y, warn=True)\n"
     ]
    },
    {
     "name": "stdout",
     "output_type": "stream",
     "text": [
      "Model\n"
     ]
    },
    {
     "name": "stderr",
     "output_type": "stream",
     "text": [
      "/home/jack/codes/ML_testing/.venv/lib/python3.10/site-packages/sklearn/utils/validation.py:1300: DataConversionWarning: A column-vector y was passed when a 1d array was expected. Please change the shape of y to (n_samples, ), for example using ravel().\n",
      "  y = column_or_1d(y, warn=True)\n"
     ]
    },
    {
     "name": "stdout",
     "output_type": "stream",
     "text": [
      "Accuracy of the best model: 0.7122029245517525\n"
     ]
    }
   ],
   "source": [
    "features = ['volume', 'close', 'RSI6_signal', 'RSI2_signal']\n",
    "target = ['signal']\n",
    "\n",
    "X = df[features]\n",
    "Y = df[target]\n",
    "\n",
    "# Split data for training and testing (80:20)\n",
    "\n",
    "X_train, X_test, Y_train, Y_test = train_test_split(X,Y, test_size=0.2, random_state=0)\n",
    "\n",
    "best_model = select_best_model_sk(X_train, Y_train)\n",
    "\n",
    "y_pred = best_model.predict(X_test)\n",
    "score = best_model.score(X_test, Y_test)\n",
    "\n",
    "print(f\"Accuracy of the best model: {score}\")"
   ]
  },
  {
   "cell_type": "code",
   "execution_count": null,
   "metadata": {},
   "outputs": [],
   "source": []
  }
 ],
 "metadata": {
  "kernelspec": {
   "display_name": ".venv",
   "language": "python",
   "name": "python3"
  },
  "language_info": {
   "codemirror_mode": {
    "name": "ipython",
    "version": 3
   },
   "file_extension": ".py",
   "mimetype": "text/x-python",
   "name": "python",
   "nbconvert_exporter": "python",
   "pygments_lexer": "ipython3",
   "version": "3.10.12"
  }
 },
 "nbformat": 4,
 "nbformat_minor": 2
}
