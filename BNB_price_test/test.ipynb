{
 "cells": [
  {
   "cell_type": "code",
   "execution_count": null,
   "metadata": {},
   "outputs": [],
   "source": [
    "import requests\n",
    "import pandas as pd\n",
    "import matplotlib.pyplot as plt\n",
    "import plotly.graph_objects as go\n",
    "import numpy as np"
   ]
  },
  {
   "cell_type": "code",
   "execution_count": null,
   "metadata": {},
   "outputs": [],
   "source": [
    "api_url = \"https://api.binance.com/api/v3/klines\"\n",
    "\n",
    "symbol = 'BNBUSDT'\n",
    "interval = '1m'\n",
    "\n",
    "params = {\n",
    "    'symbol': symbol,\n",
    "    'interval': interval,\n",
    "}"
   ]
  },
  {
   "cell_type": "code",
   "execution_count": null,
   "metadata": {},
   "outputs": [],
   "source": [
    "response = requests.get(api_url, params=params)\n",
    "klines = response.json()"
   ]
  },
  {
   "cell_type": "code",
   "execution_count": null,
   "metadata": {},
   "outputs": [],
   "source": [
    "df = pd.DataFrame(klines, columns=['timestamp', 'open', 'high', 'low', 'close', 'volume', 'close_time', 'quote_asset_volume', 'number_of_trades', 'taker_buy_base_asset_volume', 'taker_buy_quote_asset_volume', 'ignore'])\n",
    "\n",
    "# Convert timestamps to datetime format\n",
    "df['timestamp'] = pd.to_datetime(df['timestamp'], unit='ms')\n",
    "\n",
    "# Keep only relevant columns\n",
    "df = df[['timestamp', 'open', 'high', 'low', 'close', 'volume']]\n"
   ]
  },
  {
   "cell_type": "code",
   "execution_count": null,
   "metadata": {},
   "outputs": [],
   "source": [
    "def calculate_moving_averages(df, window_sizes):\n",
    "    for window_size in window_sizes:\n",
    "        column_name = f'MA_{window_size}'\n",
    "        df[column_name] = df['close'].rolling(window=window_size).mean()\n",
    "    return df"
   ]
  },
  {
   "cell_type": "code",
   "execution_count": null,
   "metadata": {},
   "outputs": [],
   "source": [
    "window_sizes = [7, 25, 99]\n",
    "df = calculate_moving_averages(df, window_sizes)"
   ]
  },
  {
   "cell_type": "code",
   "execution_count": null,
   "metadata": {},
   "outputs": [],
   "source": [
    "df.to_csv('bnb_price_data.csv', index=False)"
   ]
  },
  {
   "cell_type": "code",
   "execution_count": null,
   "metadata": {},
   "outputs": [],
   "source": [
    "################# Model Time ####################\n",
    "from sklearn.model_selection import train_test_split\n",
    "from sklearn.linear_model import LinearRegression\n",
    "from sklearn.ensemble import RandomForestRegressor\n",
    "from sklearn.metrics import mean_absolute_error\n",
    "from sklearn.preprocessing import StandardScaler\n",
    "from datetime import timedelta"
   ]
  },
  {
   "cell_type": "code",
   "execution_count": null,
   "metadata": {},
   "outputs": [],
   "source": [
    "df = pd.read_csv('bnb_price_data.csv')"
   ]
  },
  {
   "cell_type": "code",
   "execution_count": null,
   "metadata": {},
   "outputs": [],
   "source": [
    "df['timestamp'] = pd.to_datetime(df['timestamp']) \n",
    "df['next_min_close'] = df['close'].shift(-1) \n",
    "df['next_10min_close'] = df['close'].shift(-10) "
   ]
  },
  {
   "cell_type": "code",
   "execution_count": null,
   "metadata": {},
   "outputs": [],
   "source": [
    "features = df[['timestamp', 'MA_7', 'MA_25', 'MA_99',  'open', 'high', 'low', 'close', 'volume', 'next_min_close']]  \n",
    "\n",
    "df_1m = features\n",
    "\n",
    "features = features.drop(columns=['timestamp'])\n",
    "\n",
    "# Drop rows with missing values\n",
    "features = features.dropna()\n",
    "\n",
    "# Target variable\n",
    "target = features['next_min_close']\n",
    "\n",
    "# Drop target variable from features\n",
    "features = features.drop(columns=['next_min_close'])\n",
    "scaler = StandardScaler()\n",
    "features_standardized = scaler.fit_transform(features)\n",
    "\n",
    "X_train, X_test, y_train, y_test = train_test_split(features_standardized, target, test_size=0.2, random_state=42)\n",
    "\n",
    "model_1m = LinearRegression()\n",
    "model_1m.fit(X_train, y_train)\n",
    "\n",
    "predictions = model_1m.predict(X_test)\n",
    "mae = mean_absolute_error(y_test, predictions)\n",
    "print(f'Mean Absolute Error: {mae}')\n",
    "mape = np.mean(np.abs((y_test - predictions) / y_test)) * 100\n",
    "print(f'Mean Absolute Percentage Error (MAPE): {mape:.2f}%')"
   ]
  },
  {
   "cell_type": "code",
   "execution_count": null,
   "metadata": {},
   "outputs": [],
   "source": [
    "features_10m = df[['timestamp', 'MA_7', 'MA_25', 'MA_99',  'open', 'high', 'low', 'close', 'volume', 'next_10min_close']]  \n",
    "\n",
    "df_10m = features_10m\n",
    "\n",
    "features_10m = features_10m.drop(columns=['timestamp'])\n",
    "\n",
    "# Drop rows with missing values\n",
    "features_10m = features_10m.dropna()\n",
    "\n",
    "# Target variable\n",
    "target_10m = features_10m['next_10min_close']\n",
    "\n",
    "# Drop target variable from features\n",
    "features_10m = features_10m.drop(columns=['next_10min_close'])\n",
    "scaler_10m = StandardScaler()\n",
    "features_standardized_10m = scaler_10m.fit_transform(features_10m)\n",
    "\n",
    "X_train_10m, X_test_10m, y_train_10m, y_test_10m = train_test_split(features_standardized_10m, target_10m, test_size=0.2, random_state=42)\n",
    "\n",
    "model_10m = RandomForestRegressor(n_estimators=100, random_state=42)\n",
    "model_10m.fit(X_train_10m, y_train_10m)\n",
    "\n",
    "predictions_10m = model_10m.predict(X_test_10m)\n",
    "mae_10m = mean_absolute_error(y_test_10m, predictions_10m)\n",
    "print(f'Mean Absolute Error: {mae_10m}')\n",
    "mape_10m = np.mean(np.abs((y_test_10m - predictions_10m) / y_test_10m)) * 100\n",
    "print(f'Mean Absolute Percentage Error (MAPE): {mape_10m:.2f}%')"
   ]
  },
  {
   "cell_type": "code",
   "execution_count": null,
   "metadata": {},
   "outputs": [],
   "source": [
    "predictions_1m = model_1m.predict(features_standardized)\n",
    "df_singals = df_1m.dropna()\n",
    "print(df_singals)\n",
    "# Create a DataFrame to store signals\n",
    "df_singals['predicted_price'] = predictions_1m\n",
    "\n",
    "df_singals['predicted_price'] = df_singals['predicted_price'].shift(1)"
   ]
  },
  {
   "cell_type": "code",
   "execution_count": null,
   "metadata": {},
   "outputs": [],
   "source": [
    "predictions_10m = model_10m.predict(features_standardized_10m)\n",
    "df_singals_10m  = df_10m.dropna()\n",
    "# Create a DataFrame to store signals\n",
    "df_singals_10m['predicted_price'] = predictions_10m\n",
    "\n",
    "last_timestamp = df_singals_10m['timestamp'].max()\n",
    "future_timestamps = pd.date_range(last_timestamp + timedelta(minutes=10), periods=10, freq='1T')\n",
    "\n",
    "# Create a DataFrame with the future timestamps\n",
    "future_df = pd.DataFrame({'timestamp': future_timestamps})\n",
    "\n",
    "extended_df = pd.concat([df_singals_10m, future_df], ignore_index=True)\n",
    "\n",
    "extended_df['predicted_price'] = extended_df['predicted_price'].shift(10)\n",
    "\n",
    "#print(predictions_10m)\n",
    "print(extended_df)"
   ]
  },
  {
   "cell_type": "code",
   "execution_count": null,
   "metadata": {},
   "outputs": [],
   "source": [
    "candlestick_trace  = go.Candlestick(x=df['timestamp'],\n",
    "                open=df['open'],\n",
    "                high=df['high'],\n",
    "                low=df['low'],\n",
    "                close=df['close'])\n",
    "\n",
    "\n",
    "trace_ma_7 = go.Scatter(x=df['timestamp'], y=df['MA_7'], mode='lines', name='MA(7)', line=dict(color='green', dash='dash'))\n",
    "trace_ma_25 = go.Scatter(x=df['timestamp'], y=df['MA_25'], mode='lines', name='MA(25)', line=dict(color='red', dash='dash'))\n",
    "trace_ma_99 = go.Scatter(x=df['timestamp'], y=df['MA_99'], mode='lines', name='MA(99)', line=dict(color='purple', dash='dash'))\n",
    "\n",
    "pred_1m = go.Scatter(x=df_singals['timestamp'], y=df_singals['predicted_price'], mode='lines', name='predicted-price', line=dict(color='blue'))\n",
    "\n",
    "pred_10m = go.Scatter(x=extended_df['timestamp'], y=extended_df['predicted_price'], mode='lines', name='predicted-price-10m', line=dict(color='orange'))\n",
    "\n",
    "\n",
    "fig = go.Figure(data=[candlestick_trace, trace_ma_7, trace_ma_25, trace_ma_99, pred_1m, pred_10m])\n",
    "\n",
    "fig.update_layout(title=f'Historical Price Data for {symbol}',\n",
    "                  xaxis_title='Timestamp',\n",
    "                  yaxis_title='Price (USDT)',\n",
    "                  xaxis_rangeslider_visible=False)\n",
    "\n",
    "# Show the interactive plot in a browser\n",
    "fig.show()"
   ]
  },
  {
   "cell_type": "code",
   "execution_count": null,
   "metadata": {},
   "outputs": [],
   "source": []
  }
 ],
 "metadata": {
  "kernelspec": {
   "display_name": "Python 3",
   "language": "python",
   "name": "python3"
  },
  "language_info": {
   "codemirror_mode": {
    "name": "ipython",
    "version": 3
   },
   "file_extension": ".py",
   "mimetype": "text/x-python",
   "name": "python",
   "nbconvert_exporter": "python",
   "pygments_lexer": "ipython3",
   "version": "3.10.12"
  }
 },
 "nbformat": 4,
 "nbformat_minor": 2
}
