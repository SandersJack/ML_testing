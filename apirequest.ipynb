{
 "cells": [
  {
   "cell_type": "code",
   "execution_count": 1,
   "metadata": {},
   "outputs": [],
   "source": [
    "import requests\n",
    "import pandas as pd\n",
    "import time"
   ]
  },
  {
   "cell_type": "code",
   "execution_count": 4,
   "metadata": {},
   "outputs": [],
   "source": [
    "def get_and_append_historical_data(symbol, interval, limit, start_time, end_time, csv_filename):\n",
    "    base_url = 'https://api.binance.com/api/v3/klines'\n",
    "    \n",
    "    while start_time < end_time:\n",
    "        print(f\"Starting Request from {start_time}\")\n",
    "        params = {'symbol': symbol, 'interval': interval, 'limit': limit, 'startTime': int(start_time.timestamp() * 1000)}\n",
    "        response = requests.get(base_url, params=params)\n",
    "        new_data = response.json()\n",
    "        \n",
    "        if not new_data:\n",
    "            break  # No more data available\n",
    "        \n",
    "        df_chunk = pd.DataFrame(new_data, columns=['timestamp', 'open', 'high', 'low', 'close', 'volume', 'close_time', 'quote_asset_volume', 'number_of_trades', 'taker_buy_base_asset_volume', 'taker_buy_quote_asset_volume', 'ignore'])\n",
    "        df_chunk['timestamp'] = pd.to_datetime(df_chunk['timestamp'], unit='ms')\n",
    "        \n",
    "        # Append the chunk to the CSV file\n",
    "        df_chunk.to_csv(csv_filename, mode='a', header=not start_time)  # Append without header for subsequent chunks\n",
    "        \n",
    "        start_time = pd.to_datetime(new_data[-1][0], unit='ms') + pd.Timedelta(minutes=1)\n",
    "        \n",
    "        print(f\"Finished Request at {pd.to_datetime(new_data[-1][0], unit='ms')}\")\n",
    "        \n",
    "        time.sleep(5) "
   ]
  },
  {
   "cell_type": "code",
   "execution_count": 5,
   "metadata": {},
   "outputs": [],
   "source": [
    "symbol = 'BNBUSDT'  # BNB to USDT trading pair\n",
    "interval = '1m'  # 1-minute interval\n",
    "limit = 24*60  # Number of data points to retrieve per request\n",
    "start_time = pd.to_datetime('2023-01-01')  # Start time for data retrieval\n",
    "end_time = pd.to_datetime('2024-01-01')  # End time for data retrieval\n",
    "csv_filename = 'bnb_historical_data.csv'"
   ]
  },
  {
   "cell_type": "code",
   "execution_count": 8,
   "metadata": {},
   "outputs": [
    {
     "name": "stdout",
     "output_type": "stream",
     "text": [
      "Starting Request from 2023-01-01 00:00:00\n",
      "Finished Request at 2023-01-01 16:39:00\n",
      "Starting Request from 2023-01-01 16:40:00\n",
      "Finished Request at 2023-01-02 09:19:00\n",
      "Starting Request from 2023-01-02 09:20:00\n",
      "Finished Request at 2023-01-03 01:59:00\n"
     ]
    }
   ],
   "source": [
    "get_and_append_historical_data(symbol, interval, limit, start_time, end_time, csv_filename)"
   ]
  },
  {
   "cell_type": "code",
   "execution_count": null,
   "metadata": {},
   "outputs": [],
   "source": []
  }
 ],
 "metadata": {
  "kernelspec": {
   "display_name": ".venv",
   "language": "python",
   "name": "python3"
  },
  "language_info": {
   "codemirror_mode": {
    "name": "ipython",
    "version": 3
   },
   "file_extension": ".py",
   "mimetype": "text/x-python",
   "name": "python",
   "nbconvert_exporter": "python",
   "pygments_lexer": "ipython3",
   "version": "3.10.12"
  }
 },
 "nbformat": 4,
 "nbformat_minor": 2
}
